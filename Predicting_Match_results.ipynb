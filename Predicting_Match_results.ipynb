{
  "nbformat": 4,
  "nbformat_minor": 0,
  "metadata": {
    "colab": {
      "name": "Predicting Match results.ipynb",
      "provenance": [],
      "authorship_tag": "ABX9TyOZVWwCNnvCZrWVGDkVesb8",
      "include_colab_link": true
    },
    "kernelspec": {
      "name": "python3",
      "display_name": "Python 3"
    },
    "language_info": {
      "name": "python"
    }
  },
  "cells": [
    {
      "cell_type": "markdown",
      "metadata": {
        "id": "view-in-github",
        "colab_type": "text"
      },
      "source": [
        "<a href=\"https://colab.research.google.com/github/maddivikash/EPL-predictions/blob/main/Predicting_Match_results.ipynb\" target=\"_parent\"><img src=\"https://colab.research.google.com/assets/colab-badge.svg\" alt=\"Open In Colab\"/></a>"
      ]
    },
    {
      "cell_type": "code",
      "metadata": {
        "id": "tEQDQ3YeX3wg"
      },
      "source": [
        "import numpy as np\n",
        "import pandas as pd\n"
      ],
      "execution_count": 1,
      "outputs": []
    },
    {
      "cell_type": "code",
      "metadata": {
        "id": "AipDnsAiYW_C"
      },
      "source": [
        "data = pd.read_csv(\"/content/epl_matches_train.csv\")"
      ],
      "execution_count": 2,
      "outputs": []
    },
    {
      "cell_type": "code",
      "metadata": {
        "id": "D7DqnG8_YcC3"
      },
      "source": [
        "data['result'] = data['home_team_goal']  - data['away_team_goal'] "
      ],
      "execution_count": 3,
      "outputs": []
    },
    {
      "cell_type": "code",
      "metadata": {
        "colab": {
          "base_uri": "https://localhost:8080/"
        },
        "id": "-_Z1UlViYfpz",
        "outputId": "b8b30d55-1781-4e7d-8ccc-6ae3f4f2a827"
      },
      "source": [
        "data['r'] = 'win'\n",
        "for r in data.index:\n",
        "    if(int(data['result'][r]) >0 ):\n",
        "        data['r'][r] = 'win'\n",
        "        continue\n",
        "    if(int(data['result'][r]) ==0 ):\n",
        "        data['r'][r] = 'draw'\n",
        "    else:\n",
        "        data['r'][r] =  'lose'"
      ],
      "execution_count": 4,
      "outputs": [
        {
          "output_type": "stream",
          "text": [
            "/usr/local/lib/python3.7/dist-packages/ipykernel_launcher.py:7: SettingWithCopyWarning: \n",
            "A value is trying to be set on a copy of a slice from a DataFrame\n",
            "\n",
            "See the caveats in the documentation: https://pandas.pydata.org/pandas-docs/stable/user_guide/indexing.html#returning-a-view-versus-a-copy\n",
            "  import sys\n",
            "/usr/local/lib/python3.7/dist-packages/ipykernel_launcher.py:4: SettingWithCopyWarning: \n",
            "A value is trying to be set on a copy of a slice from a DataFrame\n",
            "\n",
            "See the caveats in the documentation: https://pandas.pydata.org/pandas-docs/stable/user_guide/indexing.html#returning-a-view-versus-a-copy\n",
            "  after removing the cwd from sys.path.\n",
            "/usr/local/lib/python3.7/dist-packages/ipykernel_launcher.py:9: SettingWithCopyWarning: \n",
            "A value is trying to be set on a copy of a slice from a DataFrame\n",
            "\n",
            "See the caveats in the documentation: https://pandas.pydata.org/pandas-docs/stable/user_guide/indexing.html#returning-a-view-versus-a-copy\n",
            "  if __name__ == '__main__':\n"
          ],
          "name": "stderr"
        }
      ]
    },
    {
      "cell_type": "code",
      "metadata": {
        "id": "MdRO8aEBYoF5"
      },
      "source": [
        "\n",
        "data = data.fillna(method = \"ffill\")"
      ],
      "execution_count": 5,
      "outputs": []
    },
    {
      "cell_type": "code",
      "metadata": {
        "id": "fJwLDSBiYvaY"
      },
      "source": [
        "data = data.fillna(method = \"ffill\")\n",
        "X_all = data.drop(['result','r','season','date','home_team_goal','away_team_goal'],axis = 1)\n",
        "X_all = X_all.drop(X_all.iloc[:, -16:], axis = 1)\n",
        "y_all = data['r']\n"
      ],
      "execution_count": 24,
      "outputs": []
    },
    {
      "cell_type": "code",
      "metadata": {
        "id": "8aBK3zE3Yy5z"
      },
      "source": [
        "def preprocess_features(X):\n",
        "    output = pd.DataFrame(index = X.index)\n",
        "    for col, col_data in X.iteritems():\n",
        "        if col_data.dtype == object:\n",
        "            col_data = pd.get_dummies(col_data, prefix = col)\n",
        "        output = output.join(col_data)\n",
        "    \n",
        "    return output\n",
        "\n",
        "X_all = preprocess_features(X_all)"
      ],
      "execution_count": 25,
      "outputs": []
    },
    {
      "cell_type": "code",
      "metadata": {
        "id": "Ug9xkD_xanz3"
      },
      "source": [
        "from sklearn.preprocessing import scale\n",
        "cols = X_all.columns\n",
        "for col in cols:\n",
        "    X_all[col] = scale(X_all[col])"
      ],
      "execution_count": 26,
      "outputs": []
    },
    {
      "cell_type": "code",
      "metadata": {
        "id": "MaUzJkkAY2ml"
      },
      "source": [
        "from sklearn.model_selection import train_test_split\n",
        "\n",
        "X_train, X_test, y_train, y_test = train_test_split(X_all, y_all, \n",
        "                                                    test_size = 30,\n",
        "                                                    random_state = 2,\n",
        "                                                    stratify = y_all)"
      ],
      "execution_count": 27,
      "outputs": []
    },
    {
      "cell_type": "code",
      "metadata": {
        "id": "TyNB23vXY85I"
      },
      "source": [
        "from sklearn.tree import DecisionTreeClassifier\n",
        "from sklearn.naive_bayes import MultinomialNB\n",
        "from xgboost import XGBClassifier\n",
        "from sklearn.metrics import accuracy_score\n",
        "from sklearn.model_selection import cross_val_score\n",
        "from sklearn.linear_model import LogisticRegression\n",
        "from sklearn.ensemble import RandomForestClassifier\n",
        "from sklearn.neighbors import KNeighborsClassifier\n",
        "from sklearn.svm import LinearSVC"
      ],
      "execution_count": 28,
      "outputs": []
    },
    {
      "cell_type": "code",
      "metadata": {
        "id": "SdaLJzJJZFNQ"
      },
      "source": [
        "clf1 = RandomForestClassifier()\n",
        "clf2 = MultinomialNB()\n",
        "clf3 = XGBClassifier()\n",
        "clf4 = LinearSVC()"
      ],
      "execution_count": 29,
      "outputs": []
    },
    {
      "cell_type": "code",
      "metadata": {
        "colab": {
          "base_uri": "https://localhost:8080/"
        },
        "id": "Iih-KvU2zIRu",
        "outputId": "3a2ed209-634d-40ed-bbc5-2cded87c6a72"
      },
      "source": [
        "\n",
        "model1 = LogisticRegression(max_iter=10000)\n",
        "model1.fit(X_train, y_train)\n",
        "predicted = model1.predict(X_test)\n",
        "predicted\n",
        "acc_score = accuracy_score(y_test, predicted)\n",
        "print(\"Accuracy score: \" + str(acc_score))\n",
        "scores = cross_val_score(model1, X_train, y_train, cv=10)\n",
        "print(\"Cross val scores\")\n",
        "print(scores)"
      ],
      "execution_count": 30,
      "outputs": [
        {
          "output_type": "stream",
          "text": [
            "Accuracy score: 0.43333333333333335\n",
            "Cross val scores\n",
            "[0.47908745 0.48669202 0.44106464 0.46768061 0.42205323 0.47528517\n",
            " 0.46768061 0.4904943  0.45247148 0.44106464]\n"
          ],
          "name": "stdout"
        }
      ]
    },
    {
      "cell_type": "code",
      "metadata": {
        "colab": {
          "base_uri": "https://localhost:8080/"
        },
        "id": "pH9ehOUV0Qn8",
        "outputId": "a079dcd9-bece-4c8a-f22e-7c0dcb852155"
      },
      "source": [
        "model = XGBClassifier(max_iter=10000)\n",
        "model.fit(X_all, y_all)\n",
        "model.score(X_all, y_all)"
      ],
      "execution_count": 31,
      "outputs": [
        {
          "output_type": "execute_result",
          "data": {
            "text/plain": [
              "0.6680451127819549"
            ]
          },
          "metadata": {
            "tags": []
          },
          "execution_count": 31
        }
      ]
    },
    {
      "cell_type": "code",
      "metadata": {
        "colab": {
          "base_uri": "https://localhost:8080/"
        },
        "id": "xS4krWkgzviX",
        "outputId": "9ab2ab25-1010-4dac-b2b8-e8f4da0aa667"
      },
      "source": [
        "\n",
        "model1 = XGBClassifier(max_iter=10000)\n",
        "model1.fit(X_train, y_train)\n",
        "predicted = model1.predict(X_test)\n",
        "predicted\n",
        "acc_score = accuracy_score(y_test, predicted)\n",
        "print(\"Accuracy score: \" + str(acc_score))\n",
        "scores = cross_val_score(model1, X_train, y_train, cv=10)\n",
        "print(\"Cross val scores\")\n",
        "print(scores)"
      ],
      "execution_count": 32,
      "outputs": [
        {
          "output_type": "stream",
          "text": [
            "Accuracy score: 0.5\n",
            "Cross val scores\n",
            "[0.5095057  0.4904943  0.47908745 0.5095057  0.48669202 0.48288973\n",
            " 0.52471483 0.52091255 0.48288973 0.47908745]\n"
          ],
          "name": "stdout"
        }
      ]
    },
    {
      "cell_type": "code",
      "metadata": {
        "id": "aPRrAjH00i4h"
      },
      "source": [
        "data1 = pd.read_csv(\"/content/epl_matches_test.csv\")"
      ],
      "execution_count": 16,
      "outputs": []
    },
    {
      "cell_type": "code",
      "metadata": {
        "id": "ONnofw150uA1"
      },
      "source": [
        "data1 = data1.fillna(method = \"ffill\")"
      ],
      "execution_count": 17,
      "outputs": []
    },
    {
      "cell_type": "code",
      "metadata": {
        "id": "UFPZoXec01tB"
      },
      "source": [
        "data1 = data1.fillna(method = \"ffill\")\n",
        "X1_all = data1.drop(['season','date'],axis = 1)"
      ],
      "execution_count": 18,
      "outputs": []
    },
    {
      "cell_type": "code",
      "metadata": {
        "id": "Uu0jftus1aEG"
      },
      "source": [
        "def preprocess_features(X):\n",
        "    output = pd.DataFrame(index = X.index)\n",
        "    for col, col_data in X.iteritems():\n",
        "        if col_data.dtype == object:\n",
        "            col_data = pd.get_dummies(col_data, prefix = col)\n",
        "        output = output.join(col_data)\n",
        "    \n",
        "    return output\n",
        "\n",
        "X1_all = preprocess_features(X1_all)"
      ],
      "execution_count": 19,
      "outputs": []
    },
    {
      "cell_type": "code",
      "metadata": {
        "id": "sDLXhUQZ1nnJ"
      },
      "source": [
        "from sklearn.preprocessing import scale\n",
        "cols = X1_all.columns\n",
        "for col in cols:\n",
        "  if(col != 'match_id'):\n",
        "    X1_all[col] = scale(X1_all[col])"
      ],
      "execution_count": 20,
      "outputs": []
    },
    {
      "cell_type": "code",
      "metadata": {
        "colab": {
          "base_uri": "https://localhost:8080/"
        },
        "id": "RDbknPDh2mac",
        "outputId": "a26c3dda-3dd7-4f31-e41a-ab008a659cf9"
      },
      "source": [
        "data1['match_id']"
      ],
      "execution_count": 21,
      "outputs": [
        {
          "output_type": "execute_result",
          "data": {
            "text/plain": [
              "0      48994\n",
              "1      54777\n",
              "2      31434\n",
              "3      56248\n",
              "4      44311\n",
              "       ...  \n",
              "375    42896\n",
              "376    49098\n",
              "377    55212\n",
              "378    54075\n",
              "379    40908\n",
              "Name: match_id, Length: 380, dtype: int64"
            ]
          },
          "metadata": {
            "tags": []
          },
          "execution_count": 21
        }
      ]
    },
    {
      "cell_type": "code",
      "metadata": {
        "id": "OFQau3g01q7R",
        "colab": {
          "base_uri": "https://localhost:8080/",
          "height": 415
        },
        "outputId": "99a2db48-a228-48bf-ffcb-c73ec387bce0"
      },
      "source": [
        "prediction1 = pd.DataFrame()\n",
        "prediction1['match_id'] = data1['match_id']\n",
        "\n",
        "prediction1['result'] = model.predict(X1_all)\n",
        "prediction1.to_csv('prediction1.csv', index=False)\n",
        "prediction1"
      ],
      "execution_count": 23,
      "outputs": [
        {
          "output_type": "execute_result",
          "data": {
            "text/html": [
              "<div>\n",
              "<style scoped>\n",
              "    .dataframe tbody tr th:only-of-type {\n",
              "        vertical-align: middle;\n",
              "    }\n",
              "\n",
              "    .dataframe tbody tr th {\n",
              "        vertical-align: top;\n",
              "    }\n",
              "\n",
              "    .dataframe thead th {\n",
              "        text-align: right;\n",
              "    }\n",
              "</style>\n",
              "<table border=\"1\" class=\"dataframe\">\n",
              "  <thead>\n",
              "    <tr style=\"text-align: right;\">\n",
              "      <th></th>\n",
              "      <th>match_id</th>\n",
              "      <th>result</th>\n",
              "    </tr>\n",
              "  </thead>\n",
              "  <tbody>\n",
              "    <tr>\n",
              "      <th>0</th>\n",
              "      <td>48994</td>\n",
              "      <td>lose</td>\n",
              "    </tr>\n",
              "    <tr>\n",
              "      <th>1</th>\n",
              "      <td>54777</td>\n",
              "      <td>win</td>\n",
              "    </tr>\n",
              "    <tr>\n",
              "      <th>2</th>\n",
              "      <td>31434</td>\n",
              "      <td>lose</td>\n",
              "    </tr>\n",
              "    <tr>\n",
              "      <th>3</th>\n",
              "      <td>56248</td>\n",
              "      <td>lose</td>\n",
              "    </tr>\n",
              "    <tr>\n",
              "      <th>4</th>\n",
              "      <td>44311</td>\n",
              "      <td>lose</td>\n",
              "    </tr>\n",
              "    <tr>\n",
              "      <th>...</th>\n",
              "      <td>...</td>\n",
              "      <td>...</td>\n",
              "    </tr>\n",
              "    <tr>\n",
              "      <th>375</th>\n",
              "      <td>42896</td>\n",
              "      <td>lose</td>\n",
              "    </tr>\n",
              "    <tr>\n",
              "      <th>376</th>\n",
              "      <td>49098</td>\n",
              "      <td>lose</td>\n",
              "    </tr>\n",
              "    <tr>\n",
              "      <th>377</th>\n",
              "      <td>55212</td>\n",
              "      <td>lose</td>\n",
              "    </tr>\n",
              "    <tr>\n",
              "      <th>378</th>\n",
              "      <td>54075</td>\n",
              "      <td>lose</td>\n",
              "    </tr>\n",
              "    <tr>\n",
              "      <th>379</th>\n",
              "      <td>40908</td>\n",
              "      <td>draw</td>\n",
              "    </tr>\n",
              "  </tbody>\n",
              "</table>\n",
              "<p>380 rows × 2 columns</p>\n",
              "</div>"
            ],
            "text/plain": [
              "     match_id result\n",
              "0       48994   lose\n",
              "1       54777    win\n",
              "2       31434   lose\n",
              "3       56248   lose\n",
              "4       44311   lose\n",
              "..        ...    ...\n",
              "375     42896   lose\n",
              "376     49098   lose\n",
              "377     55212   lose\n",
              "378     54075   lose\n",
              "379     40908   draw\n",
              "\n",
              "[380 rows x 2 columns]"
            ]
          },
          "metadata": {
            "tags": []
          },
          "execution_count": 23
        }
      ]
    }
  ]
}